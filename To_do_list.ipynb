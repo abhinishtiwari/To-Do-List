{
  "nbformat": 4,
  "nbformat_minor": 0,
  "metadata": {
    "colab": {
      "provenance": []
    },
    "kernelspec": {
      "name": "python3",
      "display_name": "Python 3"
    },
    "language_info": {
      "name": "python"
    }
  },
  "cells": [
    {
      "cell_type": "code",
      "execution_count": 3,
      "metadata": {
        "colab": {
          "base_uri": "https://localhost:8080/"
        },
        "id": "YI1lAJh9022R",
        "outputId": "01a59855-ee2e-4604-dbf9-b1c860cc1fa8"
      },
      "outputs": [
        {
          "output_type": "stream",
          "name": "stdout",
          "text": [
            "\n",
            "Options: \n",
            "1. Add a task\n",
            "2. Remove a task\n",
            "3. Show tasks\n",
            "4. Exit\n",
            "\n",
            "Choose an option: ggg\n",
            "Invalid option. Please choose a valid option.\n"
          ]
        }
      ],
      "source": [
        "def display_tasks(tasks):\n",
        "    if tasks:\n",
        "        print(\"\\nTo-Do List:\")\n",
        "        for idx, task in enumerate(tasks, start=1):\n",
        "            print(f\"{idx}. {task}\")\n",
        "    else:\n",
        "        print(\"No tasks to display.\")\n",
        "\n",
        "def todo_list():\n",
        "    tasks = []\n",
        "    while True:\n",
        "        print(\"\\nOptions: \")\n",
        "        print(\"1. Add a task\")\n",
        "        print(\"2. Remove a task\")\n",
        "        print(\"3. Show tasks\")\n",
        "        print(\"4. Exit\")\n",
        "\n",
        "        choice = input(\"\\nChoose an option: \")\n",
        "\n",
        "        if choice == '1':\n",
        "            task = input(\"Enter the task you want to add: \")\n",
        "            tasks.append(task)\n",
        "        elif choice == '2':\n",
        "            display_tasks(tasks)\n",
        "            try:\n",
        "                task_num = int(input(\"Enter the task number to remove: \"))\n",
        "                tasks.pop(task_num - 1)\n",
        "                print(\"Task removed.\")\n",
        "            except (IndexError, ValueError):\n",
        "                print(\"Invalid task number.\")\n",
        "        elif choice == '3':\n",
        "            display_tasks(tasks)\n",
        "        elif choice == '4':\n",
        "            print(\"Goodbye!\")\n",
        "            break\n",
        "        else:\n",
        "            print(\"Invalid option. Please choose a valid option.\")\n",
        "            break\n",
        "\n",
        "# Run the To-Do List app\n",
        "todo_list()\n"
      ]
    },
    {
      "cell_type": "code",
      "source": [],
      "metadata": {
        "id": "45gxy1Mw23DN"
      },
      "execution_count": null,
      "outputs": []
    }
  ]
}